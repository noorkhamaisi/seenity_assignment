{
 "cells": [
  {
   "cell_type": "markdown",
   "id": "d13d2c85",
   "metadata": {},
   "source": [
    "installing requirements:\n",
    "\n",
    "pip install -r requirements.txt"
   ]
  },
  {
   "cell_type": "code",
   "execution_count": 498,
   "id": "f824d350-8202-4683-8664-624103eb2c2d",
   "metadata": {},
   "outputs": [],
   "source": [
    "import pandas as pd\n",
    "import numpy as np\n",
    "from sklearn.preprocessing import StandardScaler\n",
    "from sklearn.decomposition import PCA\n",
    "import matplotlib.pyplot as plt\n",
    "from typing import Tuple\n",
    "\n"
   ]
  },
  {
   "cell_type": "code",
   "execution_count": 499,
   "id": "1c8efbd2",
   "metadata": {},
   "outputs": [],
   "source": [
    "\n",
    "def print_df_info(df: pd.DataFrame) -> None:\n",
    "    \"\"\"\n",
    "    Print information about the DataFrame. \n",
    "    1- Number of rows and columns\n",
    "    2- First 2 rows of the DataFrame\n",
    "    3- Last 2 rows of the DataFrame\n",
    "    4- 5 random rows of the DataFrame\n",
    "\n",
    "    :params:\n",
    "        df (pandas.DataFrame): The DataFrame to be analyzed.\n",
    "    \"\"\"\n",
    "\n",
    "    # Number of rows and columns\n",
    "    rows, columns = df.shape\n",
    "    print(\"Number of rows:\", rows)\n",
    "    print(\"Number of columns:\", columns)\n",
    "\n",
    "    # Print the first 2 rows of the DataFrame\n",
    "    print(\"First 2 rows of the DataFrame:\")\n",
    "    print(df.head(2))\n",
    "\n",
    "    # Print the last 2 rows of the DataFrame\n",
    "    print(\"Last 2 rows of the DataFrame:\")\n",
    "    print(df.tail(2))\n",
    "\n",
    "    # Print 5 random rows of the DataFrame\n",
    "    print(\"5 random rows of the DataFrame:\")\n",
    "    print(df.sample(5))"
   ]
  },
  {
   "cell_type": "code",
   "execution_count": 500,
   "id": "6da0633a",
   "metadata": {},
   "outputs": [
    {
     "name": "stdout",
     "output_type": "stream",
     "text": [
      "*** Working with FILE1.xlsx ***\n",
      "Number of rows: 13\n",
      "Number of columns: 4\n",
      "First 2 rows of the DataFrame:\n",
      "   ID  NUM_CHILDREN  SALARY_PER_MONTH  CAR_VALUE\n",
      "0   1             4            4343.0    23232.0\n",
      "1   2             3            6464.0    35353.0\n",
      "Last 2 rows of the DataFrame:\n",
      "    ID  NUM_CHILDREN  SALARY_PER_MONTH  CAR_VALUE\n",
      "11  12             1           34543.0    64564.0\n",
      "12  13             3           53436.0     5343.0\n",
      "5 random rows of the DataFrame:\n",
      "    ID  NUM_CHILDREN  SALARY_PER_MONTH  CAR_VALUE\n",
      "11  12             1           34543.0    64564.0\n",
      "9   10             6               NaN   543523.0\n",
      "4    5             5            4564.0        NaN\n",
      "1    2             3            6464.0    35353.0\n",
      "5    6             2            5355.0    53453.0\n",
      "\n",
      "\n",
      "*** Working with FILE2.csv ***\n",
      "Number of rows: 13\n",
      "Number of columns: 2\n",
      "First 2 rows of the DataFrame:\n",
      "   ID  Years_of_education\n",
      "0   1                10.0\n",
      "1   2                 NaN\n",
      "Last 2 rows of the DataFrame:\n",
      "    ID  Years_of_education\n",
      "11  12                20.0\n",
      "12  13                21.0\n",
      "5 random rows of the DataFrame:\n",
      "   ID  Years_of_education\n",
      "2   3                15.0\n",
      "0   1                10.0\n",
      "6   7                13.0\n",
      "8   9                 9.0\n",
      "4   5                 NaN\n"
     ]
    }
   ],
   "source": [
    "print(\"*** Working with FILE1.xlsx ***\")\n",
    "#Read the xlsx file to a dataframe\n",
    "xlsx_df = pd.read_excel('FILE1.xlsx', sheet_name='Sheet1')\n",
    "print_df_info(xlsx_df)\n",
    "\n",
    "\n",
    "print(\"\\n\\n*** Working with FILE2.csv ***\")\n",
    "# Read the csv file to a dataframe\n",
    "csv_df = pd.read_csv('FILE2.csv')\n",
    "print_df_info(csv_df)\n"
   ]
  },
  {
   "cell_type": "code",
   "execution_count": 501,
   "id": "5f978707",
   "metadata": {},
   "outputs": [],
   "source": [
    "# Merge both dataframes\n",
    "merged_df = pd.merge(xlsx_df, csv_df, on='ID')\n",
    "# Set the 'ID' column as the index\n",
    "merged_df.set_index('ID', inplace=True)\n",
    "\n",
    "\n",
    "# Two ways to treat missing values in a dataframe \n",
    "# https://pca4ds.github.io/handling-missing-values.html\n",
    "# we choose the second one\n",
    "\n",
    "# 1- Remove rows with NaN values\n",
    "dropped_na_df = merged_df.dropna(inplace=False)\n",
    "\n",
    "# 2- Replace NaN values with column averages\n",
    "column_averages = merged_df.mean()  # Calculate the column averages\n",
    "averaged_df =  merged_df.fillna(column_averages, inplace=False)\n",
    "\n",
    "\n"
   ]
  },
  {
   "cell_type": "code",
   "execution_count": 502,
   "id": "b3e61fa5",
   "metadata": {},
   "outputs": [],
   "source": [
    "# Extract the features for PCA\n",
    "features = averaged_df.columns.to_list()\n",
    "X = averaged_df[features]\n",
    "\n",
    "# Standardize the data\n",
    "scaler = StandardScaler()\n",
    "X_standardized = scaler.fit_transform(X)\n"
   ]
  },
  {
   "cell_type": "markdown",
   "id": "b8a03147",
   "metadata": {},
   "source": [
    "**\n",
    "Standardize the data an optional but recommended step when performing PCA. The purpose of standardization is to ensure that all the features (columns) have similar scales or units. Standardization transforms the data in such a way that each feature has a mean of 0 and a standard deviation of 1."
   ]
  },
  {
   "cell_type": "code",
   "execution_count": 503,
   "id": "b7f7c544",
   "metadata": {},
   "outputs": [],
   "source": [
    "def perform_pca(X_standardized:np.ndarray, n_components:int)->Tuple[np.ndarray, PCA]:\n",
    "    \"\"\"\n",
    "    Perform PCA on the given data X_standardized and return the transformed data\n",
    "    :param X_standardized(np.ndarray): The data to be transformed\n",
    "    :param n_components(int): The number of components to project the data onto\n",
    "    :return X_pca (np.ndarray): The transformed data\n",
    "    :return pca (PCA): The PCA model\n",
    "\n",
    "    \"\"\"\n",
    "    # Create and fit the PCA model\n",
    "    pca = PCA(n_components=n_components)\n",
    "    X_pca = pca.fit_transform(X_standardized)\n",
    "    return X_pca, pca"
   ]
  },
  {
   "cell_type": "code",
   "execution_count": 504,
   "id": "37f0bc24",
   "metadata": {},
   "outputs": [],
   "source": [
    "\n",
    "def calculate_number_of_components(pca:PCA, threshold:float = 0.85)->int:\n",
    "    \"\"\"\n",
    "    \n",
    "    Calculate the number of components that explain (threshold) of the variance in the dataset based on calculating \n",
    "    the explained variance percentage of individual components and the cumulative explained variance percentage\n",
    "    :param pca: PCA object\n",
    "    :param threshold: (float) : threshold value for the cumulative explained variance percentage, default value is 0.85\n",
    "    :return: number of components (int) : number of components that explain threshold of the variance in the dataset\n",
    "    \"\"\"\n",
    "\n",
    "    # Get the explained variance percentage for each component\n",
    "    explained_var_ratio = pca.explained_variance_ratio_\n",
    "    # Calculate the cumulative explained variance percentage\n",
    "    cumulative_var_ratio = np.cumsum(explained_var_ratio)\n",
    "\n",
    "    print(\"Explained Variance Ratio: \", explained_var_ratio)\n",
    "    print(\"Cumulative Explained Variance Ratio: \", cumulative_var_ratio)\n",
    "    # Plot the explained variance percentage of individual components\n",
    "    plt.figure(figsize=(8, 6))\n",
    "    plt.bar(range(1, n_components + 1), explained_var_ratio, alpha=0.7)\n",
    "    plt.xlabel(\"Principal Component\")\n",
    "    plt.ylabel(\"Explained Variance Percentage\")\n",
    "    plt.title(\"Explained Variance Percentage of Individual Components\")\n",
    "    plt.xticks(range(1, n_components + 1))\n",
    "    plt.show()\n",
    "\n",
    "    # Plot the percentage of total variance captured by all principal components\n",
    "    plt.figure(figsize=(8, 6))\n",
    "    plt.plot(range(1, n_components + 1), cumulative_var_ratio, marker='o')\n",
    "    plt.xlabel(\"Number of Principal Components\")\n",
    "    plt.ylabel(\"Cumulative Explained Variance Percentage\")\n",
    "    plt.title(\"Percentage of Total Variance Captured by Principal Components\")\n",
    "    plt.xticks(range(1, n_components + 1))\n",
    "    plt.grid(True)\n",
    "    plt.show()\n",
    "\n",
    "    # Configurable threshold value for the cumulative explained variance percentage\n",
    "    number_of_components = np.argmax(cumulative_var_ratio > threshold) + 1\n",
    "    print(\"Number of components that explain {} of the variance in the dataset: {}\".format(threshold,number_of_components))\n",
    "\n",
    "    return number_of_components\n"
   ]
  },
  {
   "cell_type": "code",
   "execution_count": 505,
   "id": "f0a49500",
   "metadata": {},
   "outputs": [
    {
     "name": "stdout",
     "output_type": "stream",
     "text": [
      "Explained Variance Ratio:  [0.58955116 0.2625032  0.11155295 0.03639269]\n",
      "Cumulative Explained Variance Ratio:  [0.58955116 0.85205437 0.96360731 1.        ]\n"
     ]
    },
    {
     "data": {
      "image/png": "[encoded data removed]",
      "text/plain": [
       "<Figure size 576x432 with 1 Axes>"
      ]
     },
     "metadata": {
      "needs_background": "light"
     },
     "output_type": "display_data"
    },
    {
     "data": {
      "image/png": "[encoded data removed]",
      "text/plain": [
       "<Figure size 576x432 with 1 Axes>"
      ]
     },
     "metadata": {
      "needs_background": "light"
     },
     "output_type": "display_data"
    },
    {
     "name": "stdout",
     "output_type": "stream",
     "text": [
      "Number of components that explain 0.85 of the variance in the dataset: 2\n"
     ]
    }
   ],
   "source": [
    "# Decide the number of components for PCA based on :\n",
    "# https://towardsdatascience.com/how-to-select-the-best-number-of-principal-components-for-the-dataset-287e64b14c6d\n",
    "# Method 3 \n",
    "\n",
    "# Set the number of components for PCA\n",
    "n_components = 4\n",
    "threshold = 0.85\n",
    "X_pca, pca = perform_pca(X_standardized, n_components)\n",
    "# Calculate the number of components that explain 85% of the variance\n",
    "number_of_calculated_components = calculate_number_of_components(pca, threshold)\n",
    "\n",
    "\n"
   ]
  },
  {
   "cell_type": "code",
   "execution_count": 506,
   "id": "77f23c2f",
   "metadata": {},
   "outputs": [],
   "source": [
    "\n",
    "\n",
    "def determine_thresholds(pca_df: pd.DataFrame) -> np.array:\n",
    "    \"\"\"\n",
    "    Divide the range of attribute values into N intervals of equal size, Equal-width intervals.\n",
    "    :params:\n",
    "    pca_df(pandas.DataFrame): dataframe with the distance from the origin\n",
    "    :return:\n",
    "    thresholds(np.array): numpy array with the thresholds\n",
    "    \"\"\"\n",
    "    num_grades = 5\n",
    "    min_distance = pca_df['distance_from_origin'].min()\n",
    "    max_distance = pca_df['distance_from_origin'].max()\n",
    "    thresholds = np.linspace(min_distance, max_distance, num_grades + 1)[1:-1]\n",
    "    return thresholds\n",
    "\n",
    "def assign_grade(distance:float, thresholds:np.array)->str:\n",
    "    \"\"\"\n",
    "    Assign grades based on distance from the origin\n",
    "    :params:\n",
    "    distance(float): distance from the origin\n",
    "    thresholds(np.array): numpy array with the thresholds\n",
    "    :return:\n",
    "    grade(str): grade assigned to the distance\n",
    "    \"\"\"\n",
    "    for i, threshold in enumerate(thresholds):\n",
    "        if distance <= threshold:\n",
    "            return f'{i + 1}'\n",
    "    return f'{len(thresholds) + 1}'"
   ]
  },
  {
   "cell_type": "code",
   "execution_count": 507,
   "id": "6e498e16",
   "metadata": {},
   "outputs": [
    {
     "name": "stdout",
     "output_type": "stream",
     "text": [
      "    NUM_CHILDREN  SALARY_PER_MONTH      CAR_VALUE  Years_of_education grade\n",
      "ID                                                                         \n",
      "1              4           4343.00   23232.000000           10.000000     1\n",
      "2              3           6464.00   35353.000000           14.272727     1\n",
      "3              2           7657.00   53234.000000           15.000000     1\n",
      "4              4          36456.00    4654.000000           18.000000     2\n",
      "5              5           4564.00   75458.166667           14.272727     1\n",
      "6              2           5355.00   53453.000000           16.000000     1\n",
      "7              1          10943.00    7576.000000           13.000000     1\n",
      "8              3           9000.00    3353.000000           12.000000     1\n",
      "9              5           5454.00   64757.000000            9.000000     2\n",
      "10             6          15389.25  543523.000000            5.000000     5\n",
      "11             2           6456.00   46456.000000           18.000000     1\n",
      "12             1          34543.00   64564.000000           20.000000     3\n",
      "13             3          53436.00    5343.000000           21.000000     4\n"
     ]
    }
   ],
   "source": [
    "\n",
    "\n",
    "# Number of components that explain (threshold = 0.85) of the variance\n",
    "n_components = number_of_calculated_components\n",
    "X_pca, pca = perform_pca(X_standardized, n_components)\n",
    "\n",
    "# Create a DataFrame with the PCA components\n",
    "pca_df = pd.DataFrame(X_pca, index=X.index, columns=[f\"PCA_{i+1}\" for i in range(n_components)])\n",
    "\n",
    "# Calculate the Euclidean distance from the origin (0, 0)\n",
    "pca_df['distance_from_origin'] = np.sqrt(pca_df['PCA_1']**2 + pca_df['PCA_2']**2)\n",
    "thresholds = determine_thresholds(pca_df)\n",
    "\n",
    "# Apply the grading function to each row\n",
    "pca_df['grade'] = pca_df['distance_from_origin'].apply(assign_grade, thresholds=thresholds)\n",
    "\n",
    "df_with_grades = averaged_df.merge(pca_df[\"grade\"], left_index=True, right_index=True)\n",
    "print(df_with_grades)\n",
    "# Save the PCA grades to a CSV file\n",
    "df_with_grades.to_csv(f\"pca_grades_{n_components}_components.csv\")\n",
    "\n"
   ]
  }
 ],
 "metadata": {
  "kernelspec": {
   "display_name": "Python 3",
   "language": "python",
   "name": "python3"
  },
  "language_info": {
   "codemirror_mode": {
    "name": "ipython",
    "version": 3
   },
   "file_extension": ".py",
   "mimetype": "text/x-python",
   "name": "python",
   "nbconvert_exporter": "python",
   "pygments_lexer": "ipython3",
   "version": "3.9.17"
  }
 },
 "nbformat": 4,
 "nbformat_minor": 5
}
